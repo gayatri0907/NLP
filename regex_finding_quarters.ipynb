{
 "cells": [
  {
   "cell_type": "code",
   "execution_count": 1,
   "id": "f9add5f9-f8a0-47db-bbc1-21fe6cc580b6",
   "metadata": {},
   "outputs": [],
   "source": [
    "import re"
   ]
  },
  {
   "cell_type": "code",
   "execution_count": 4,
   "id": "a45ae561-59da-4761-b373-03fbcfa2804a",
   "metadata": {},
   "outputs": [
    {
     "data": {
      "text/plain": [
       "['FY2021 Q3', 'FY2022 Q1', 'FY2021 Q4', 'FY2022 Q2']"
      ]
     },
     "execution_count": 4,
     "metadata": {},
     "output_type": "execute_result"
    }
   ],
   "source": [
    "text ='''For sustained longer term growth, what matters is\n",
    "that the base order book size, excluding the occasional\n",
    "mega deal, keeps growing year after year, and that\n",
    "the quality of revenue keeps improving with higher\n",
    "value engagements. Our average order book size\n",
    "which used to be in the $6-7 billion range in FY2021 Q3 moved to the $7-8 billion range in FY2022 Q1,\n",
    "and ended with an all-time high order book of\n",
    "$11.3 billion in Q4. We are very pleased with that\n",
    "progression.\n",
    "For sustained longer term growth, what matters is\n",
    "that the base order book size, excluding the occasional\n",
    "mega deal, keeps growing year after year, and that\n",
    "the quality of revenue keeps improving with higher\n",
    "value engagements. Our average order book size\n",
    "which used to be in the $6-7 billion range in FY2021 Q4 moved to the $7-8 billion range in FY2022 Q2,\n",
    "and ended with an all-time high order book of\n",
    "$4.3 billion in Q2. We are very pleased with that\n",
    "progression.\n",
    "'''\n",
    "\n",
    "pattern='FY\\d{4} Q[1-4]'\n",
    "matches=re.findall(pattern,text)\n",
    "matches"
   ]
  },
  {
   "cell_type": "code",
   "execution_count": null,
   "id": "1fd02432-6975-427d-8603-3c9bc706c10b",
   "metadata": {},
   "outputs": [],
   "source": []
  }
 ],
 "metadata": {
  "kernelspec": {
   "display_name": "Python 3 (ipykernel)",
   "language": "python",
   "name": "python3"
  },
  "language_info": {
   "codemirror_mode": {
    "name": "ipython",
    "version": 3
   },
   "file_extension": ".py",
   "mimetype": "text/x-python",
   "name": "python",
   "nbconvert_exporter": "python",
   "pygments_lexer": "ipython3",
   "version": "3.10.4"
  }
 },
 "nbformat": 4,
 "nbformat_minor": 5
}
