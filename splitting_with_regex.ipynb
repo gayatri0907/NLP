{
 "cells": [
  {
   "cell_type": "code",
   "execution_count": 21,
   "id": "e0425998-e2e0-4089-b692-3696b4ef82da",
   "metadata": {},
   "outputs": [],
   "source": [
    "import re\n",
    "from nltk.stem.snowball import SnowballStemmer"
   ]
  },
  {
   "cell_type": "code",
   "execution_count": 22,
   "id": "23799e3e-3c42-4aa8-b0f1-890c78b78ced",
   "metadata": {},
   "outputs": [
    {
     "data": {
      "text/plain": [
       "<_io.TextIOWrapper name='test.txt' mode='r' encoding='cp1252'>"
      ]
     },
     "execution_count": 22,
     "metadata": {},
     "output_type": "execute_result"
    }
   ],
   "source": [
    "myfile=open('test.txt')\n",
    "myfile       "
   ]
  },
  {
   "cell_type": "code",
   "execution_count": 23,
   "id": "d41f7eb9-756d-47c8-89ff-1cf207496726",
   "metadata": {},
   "outputs": [
    {
     "data": {
      "text/plain": [
       "'There are three types of verbs: action verbs, linking verbs, and helping verbs.Action verbs are verbs that express action or possession.Action verbs can be transitive or intransitive.\\ncut, cutting, cuts\\nwork, worked, working, works\\nsing, sang, sung, singing, sings\\ndo, does, will do\\n'"
      ]
     },
     "execution_count": 23,
     "metadata": {},
     "output_type": "execute_result"
    }
   ],
   "source": [
    "content=myfile.read()\n",
    "content   "
   ]
  },
  {
   "cell_type": "code",
   "execution_count": 24,
   "id": "b3b6dedb-97ca-4e21-b35d-a57ae63dcd2f",
   "metadata": {},
   "outputs": [
    {
     "data": {
      "text/plain": [
       "re.compile(r'\\n', re.UNICODE)"
      ]
     },
     "execution_count": 24,
     "metadata": {},
     "output_type": "execute_result"
    }
   ],
   "source": [
    "pattern=re.compile(\"\\n\")\n",
    "pattern"
   ]
  },
  {
   "cell_type": "code",
   "execution_count": 25,
   "id": "c9234f9d-e450-436b-8d94-e2195c160a04",
   "metadata": {},
   "outputs": [
    {
     "data": {
      "text/plain": [
       "['There are three types of verbs: action verbs, linking verbs, and helping verbs.Action verbs are verbs that express action or possession.Action verbs can be transitive or intransitive.',\n",
       " 'cut, cutting, cuts',\n",
       " 'work, worked, working, works',\n",
       " 'sing, sang, sung, singing, sings',\n",
       " 'do, does, will do',\n",
       " '']"
      ]
     },
     "execution_count": 25,
     "metadata": {},
     "output_type": "execute_result"
    }
   ],
   "source": [
    "pattern.split(content)"
   ]
  },
  {
   "cell_type": "code",
   "execution_count": 26,
   "id": "5c68ef67-c401-4764-86ad-f0bb821a0d40",
   "metadata": {},
   "outputs": [
    {
     "data": {
      "text/plain": [
       "re.compile(r'\\W', re.UNICODE)"
      ]
     },
     "execution_count": 26,
     "metadata": {},
     "output_type": "execute_result"
    }
   ],
   "source": [
    "pattern=re.compile(\"\\W\")\n",
    "pattern"
   ]
  },
  {
   "cell_type": "code",
   "execution_count": 30,
   "id": "eb5d4fcc-07f8-4c5a-b497-55992d66f4c8",
   "metadata": {},
   "outputs": [
    {
     "name": "stdout",
     "output_type": "stream",
     "text": [
      "['There', 'are', 'three', 'types', 'of', 'verbs', '', 'action', 'verbs', '', 'linking', 'verbs', '', 'and', 'helping', 'verbs', 'Action', 'verbs', 'are', 'verbs', 'that', 'express', 'action', 'or', 'possession', 'Action', 'verbs', 'can', 'be', 'transitive', 'or', 'intransitive', '', 'cut', '', 'cutting', '', 'cuts', 'work', '', 'worked', '', 'working', '', 'works', 'sing', '', 'sang', '', 'sung', '', 'singing', '', 'sings', 'do', '', 'does', '', 'will', 'do', '']\n"
     ]
    }
   ],
   "source": [
    "words=pattern.split(content)\n",
    "print(words)"
   ]
  },
  {
   "cell_type": "code",
   "execution_count": 31,
   "id": "2c2cbf62-be6f-41f7-be8e-a8e9a77e654e",
   "metadata": {},
   "outputs": [],
   "source": [
    "s_stemmer=SnowballStemmer(language='english')"
   ]
  },
  {
   "cell_type": "code",
   "execution_count": 32,
   "id": "4beb63f5-e99c-4f5a-9777-33757cb80455",
   "metadata": {},
   "outputs": [
    {
     "name": "stdout",
     "output_type": "stream",
     "text": [
      "There-------->there\n",
      "are-------->are\n",
      "three-------->three\n",
      "types-------->type\n",
      "of-------->of\n",
      "verbs-------->verb\n",
      "-------->\n",
      "action-------->action\n",
      "verbs-------->verb\n",
      "-------->\n",
      "linking-------->link\n",
      "verbs-------->verb\n",
      "-------->\n",
      "and-------->and\n",
      "helping-------->help\n",
      "verbs-------->verb\n",
      "Action-------->action\n",
      "verbs-------->verb\n",
      "are-------->are\n",
      "verbs-------->verb\n",
      "that-------->that\n",
      "express-------->express\n",
      "action-------->action\n",
      "or-------->or\n",
      "possession-------->possess\n",
      "Action-------->action\n",
      "verbs-------->verb\n",
      "can-------->can\n",
      "be-------->be\n",
      "transitive-------->transit\n",
      "or-------->or\n",
      "intransitive-------->intransit\n",
      "-------->\n",
      "cut-------->cut\n",
      "-------->\n",
      "cutting-------->cut\n",
      "-------->\n",
      "cuts-------->cut\n",
      "work-------->work\n",
      "-------->\n",
      "worked-------->work\n",
      "-------->\n",
      "working-------->work\n",
      "-------->\n",
      "works-------->work\n",
      "sing-------->sing\n",
      "-------->\n",
      "sang-------->sang\n",
      "-------->\n",
      "sung-------->sung\n",
      "-------->\n",
      "singing-------->sing\n",
      "-------->\n",
      "sings-------->sing\n",
      "do-------->do\n",
      "-------->\n",
      "does-------->doe\n",
      "-------->\n",
      "will-------->will\n",
      "do-------->do\n",
      "-------->\n"
     ]
    }
   ],
   "source": [
    "for word in words:\n",
    "    print(word+'-------->'+s_stemmer.stem(word))"
   ]
  },
  {
   "cell_type": "code",
   "execution_count": null,
   "id": "f0bfa743-9511-433c-b3bd-0795a5568530",
   "metadata": {},
   "outputs": [],
   "source": []
  }
 ],
 "metadata": {
  "kernelspec": {
   "display_name": "Python 3 (ipykernel)",
   "language": "python",
   "name": "python3"
  },
  "language_info": {
   "codemirror_mode": {
    "name": "ipython",
    "version": 3
   },
   "file_extension": ".py",
   "mimetype": "text/x-python",
   "name": "python",
   "nbconvert_exporter": "python",
   "pygments_lexer": "ipython3",
   "version": "3.10.4"
  }
 },
 "nbformat": 4,
 "nbformat_minor": 5
}
