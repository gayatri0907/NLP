{
 "cells": [
  {
   "cell_type": "code",
   "execution_count": 1,
   "id": "9601966e-c634-406d-bee5-e559d1422ee3",
   "metadata": {},
   "outputs": [],
   "source": [
    "import re"
   ]
  },
  {
   "cell_type": "code",
   "execution_count": 2,
   "id": "912903d4-3c71-44ba-a44d-4d9d421ca66a",
   "metadata": {},
   "outputs": [],
   "source": [
    "text='''Hey! this is my number 9144556666 or you can call on my desk contact number is (020)-789-4444'''\n",
    "pattern='\\d{10} | \\(\\d{3}\\)-\\d{3}-\\d{4}'"
   ]
  },
  {
   "cell_type": "code",
   "execution_count": 3,
   "id": "9f1ff904-ea18-44c4-a401-a62b3788bbfe",
   "metadata": {},
   "outputs": [
    {
     "data": {
      "text/plain": [
       "['9144556666 ', ' (020)-789-4444']"
      ]
     },
     "execution_count": 3,
     "metadata": {},
     "output_type": "execute_result"
    }
   ],
   "source": [
    "matches=re.findall(pattern,text)\n",
    "matches"
   ]
  },
  {
   "cell_type": "code",
   "execution_count": null,
   "id": "96f22c63-17cb-4972-9a91-d3a4c920131e",
   "metadata": {},
   "outputs": [],
   "source": []
  }
 ],
 "metadata": {
  "kernelspec": {
   "display_name": "Python 3 (ipykernel)",
   "language": "python",
   "name": "python3"
  },
  "language_info": {
   "codemirror_mode": {
    "name": "ipython",
    "version": 3
   },
   "file_extension": ".py",
   "mimetype": "text/x-python",
   "name": "python",
   "nbconvert_exporter": "python",
   "pygments_lexer": "ipython3",
   "version": "3.10.4"
  }
 },
 "nbformat": 4,
 "nbformat_minor": 5
}
