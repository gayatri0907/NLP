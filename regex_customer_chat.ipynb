{
 "cells": [
  {
   "cell_type": "code",
   "execution_count": 1,
   "id": "7ba4bcaf-e463-47e6-ba63-9d2917ca2f5f",
   "metadata": {},
   "outputs": [],
   "source": [
    "import re"
   ]
  },
  {
   "cell_type": "code",
   "execution_count": 9,
   "id": "12bba9e0-068e-4803-8048-59d9c0adb3c8",
   "metadata": {},
   "outputs": [
    {
     "data": {
      "text/plain": [
       "[' 9134598767', '(789)-543-1234 ']"
      ]
     },
     "execution_count": 9,
     "metadata": {},
     "output_type": "execute_result"
    }
   ],
   "source": [
    "text='''I’m sorry, but an issue like that can only be handled at one of our locations. The nearest store to you is {Location} Would you like me to transfer you to talk directly with our manager? May I suggest you reach out to our support agent directly at 9134598767? Would you like to leave me your contact information, so one of our customer success managers could reach out to you?\n",
    "yes here is contact number (789)-543-1234 and email id is gayatri@gmail.com or other email is tata@rig.io'''\n",
    "\n",
    "pattern='\\(\\d{3}\\)-\\d{3}-\\d{4} | \\d{10}'\n",
    "contact_numbers=re.findall(pattern, text)\n",
    "contact_numbers"
   ]
  },
  {
   "cell_type": "code",
   "execution_count": 10,
   "id": "5fc6b1f5-6c11-4bad-a219-5fa70b726d56",
   "metadata": {},
   "outputs": [
    {
     "data": {
      "text/plain": [
       "['gayatri@gmail.com', 'tata@rig.io']"
      ]
     },
     "execution_count": 10,
     "metadata": {},
     "output_type": "execute_result"
    }
   ],
   "source": [
    "pattern_2='[a-z0-9A-Z_]*@[a-z0-9A-Z]*\\.[a-zA-Z]*'\n",
    "email_id=re.findall(pattern_2,text)\n",
    "email_id"
   ]
  },
  {
   "cell_type": "code",
   "execution_count": null,
   "id": "bf00eebc-4271-4b1c-8e14-54941a7c131f",
   "metadata": {},
   "outputs": [],
   "source": []
  }
 ],
 "metadata": {
  "kernelspec": {
   "display_name": "Python 3 (ipykernel)",
   "language": "python",
   "name": "python3"
  },
  "language_info": {
   "codemirror_mode": {
    "name": "ipython",
    "version": 3
   },
   "file_extension": ".py",
   "mimetype": "text/x-python",
   "name": "python",
   "nbconvert_exporter": "python",
   "pygments_lexer": "ipython3",
   "version": "3.10.4"
  }
 },
 "nbformat": 4,
 "nbformat_minor": 5
}
