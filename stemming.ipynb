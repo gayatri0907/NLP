{
 "cells": [
  {
   "cell_type": "code",
   "execution_count": 1,
   "id": "a81c94be-ff5e-4144-ac39-043382679269",
   "metadata": {},
   "outputs": [],
   "source": [
    "import nltk"
   ]
  },
  {
   "cell_type": "code",
   "execution_count": 2,
   "id": "5b9e8a07-b6d4-406c-b85d-02481156f62b",
   "metadata": {},
   "outputs": [],
   "source": [
    "from nltk.stem.porter import PorterStemmer  #importing porter stemmer"
   ]
  },
  {
   "cell_type": "code",
   "execution_count": 3,
   "id": "7eaa76f0-5af4-42e9-9f82-b2f9fe5ba441",
   "metadata": {},
   "outputs": [],
   "source": [
    "p_stemmer=PorterStemmer()  #creating instance"
   ]
  },
  {
   "cell_type": "code",
   "execution_count": 4,
   "id": "dfce2226-5f36-4d81-b1ac-55700a7d3280",
   "metadata": {},
   "outputs": [],
   "source": [
    "words=['want','wanting','wanted','wants','runs','running','easily','fairly']"
   ]
  },
  {
   "cell_type": "code",
   "execution_count": 5,
   "id": "bd24c688-8d46-407e-9cc7-6e498067320b",
   "metadata": {},
   "outputs": [
    {
     "name": "stdout",
     "output_type": "stream",
     "text": [
      "want-------->want\n",
      "wanting-------->want\n",
      "wanted-------->want\n",
      "wants-------->want\n",
      "runs-------->run\n",
      "running-------->run\n",
      "easily-------->easili\n",
      "fairly-------->fairli\n"
     ]
    }
   ],
   "source": [
    "for word in words:\n",
    "    print(word+'-------->'+p_stemmer.stem(word))"
   ]
  },
  {
   "cell_type": "code",
   "execution_count": 6,
   "id": "3c2b4911-e4bf-4f14-b1d0-89ffaae7f008",
   "metadata": {},
   "outputs": [],
   "source": [
    "from nltk.stem.snowball import SnowballStemmer"
   ]
  },
  {
   "cell_type": "code",
   "execution_count": 7,
   "id": "b8c8424c-7436-4a01-ab6f-80d06b7d4434",
   "metadata": {},
   "outputs": [],
   "source": [
    "s_stemmer=SnowballStemmer(language='english')"
   ]
  },
  {
   "cell_type": "code",
   "execution_count": 8,
   "id": "78921c63-d89d-4e90-aa7f-cc839316fdb4",
   "metadata": {},
   "outputs": [
    {
     "name": "stdout",
     "output_type": "stream",
     "text": [
      "want-------->want\n",
      "wanting-------->want\n",
      "wanted-------->want\n",
      "wants-------->want\n",
      "runs-------->run\n",
      "running-------->run\n",
      "easily-------->easili\n",
      "fairly-------->fair\n"
     ]
    }
   ],
   "source": [
    "for word in words:\n",
    "    print(word+'-------->'+s_stemmer.stem(word))"
   ]
  },
  {
   "cell_type": "code",
   "execution_count": null,
   "id": "c4e87d68-3e95-498d-80e5-079dd1d574fa",
   "metadata": {},
   "outputs": [],
   "source": []
  }
 ],
 "metadata": {
  "kernelspec": {
   "display_name": "Python 3 (ipykernel)",
   "language": "python",
   "name": "python3"
  },
  "language_info": {
   "codemirror_mode": {
    "name": "ipython",
    "version": 3
   },
   "file_extension": ".py",
   "mimetype": "text/x-python",
   "name": "python",
   "nbconvert_exporter": "python",
   "pygments_lexer": "ipython3",
   "version": "3.10.4"
  }
 },
 "nbformat": 4,
 "nbformat_minor": 5
}
