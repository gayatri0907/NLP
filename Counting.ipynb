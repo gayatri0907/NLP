{
 "cells": [
  {
   "cell_type": "markdown",
   "id": "edf085d4",
   "metadata": {},
   "source": [
    "#### 1.Import Natural Language Tool Kit"
   ]
  },
  {
   "cell_type": "code",
   "execution_count": 19,
   "id": "66066f8d",
   "metadata": {},
   "outputs": [],
   "source": [
    "import nltk"
   ]
  },
  {
   "cell_type": "markdown",
   "id": "4a24c358",
   "metadata": {},
   "source": [
    "#### 2.Pulling some text files from Gutenberg.org"
   ]
  },
  {
   "cell_type": "code",
   "execution_count": 20,
   "id": "d13a5271",
   "metadata": {},
   "outputs": [
    {
     "data": {
      "text/plain": [
       "['austen-emma.txt',\n",
       " 'austen-persuasion.txt',\n",
       " 'austen-sense.txt',\n",
       " 'bible-kjv.txt',\n",
       " 'blake-poems.txt',\n",
       " 'bryant-stories.txt',\n",
       " 'burgess-busterbrown.txt',\n",
       " 'carroll-alice.txt',\n",
       " 'chesterton-ball.txt',\n",
       " 'chesterton-brown.txt',\n",
       " 'chesterton-thursday.txt',\n",
       " 'edgeworth-parents.txt',\n",
       " 'melville-moby_dick.txt',\n",
       " 'milton-paradise.txt',\n",
       " 'shakespeare-caesar.txt',\n",
       " 'shakespeare-hamlet.txt',\n",
       " 'shakespeare-macbeth.txt',\n",
       " 'whitman-leaves.txt']"
      ]
     },
     "execution_count": 20,
     "metadata": {},
     "output_type": "execute_result"
    }
   ],
   "source": [
    "nltk.corpus.gutenberg.fileids()"
   ]
  },
  {
   "cell_type": "markdown",
   "id": "6ebb9f32",
   "metadata": {},
   "source": [
    "#### 3.Going to work on file moby_dick.txt"
   ]
  },
  {
   "cell_type": "code",
   "execution_count": 21,
   "id": "f1e1a555",
   "metadata": {},
   "outputs": [],
   "source": [
    "md=nltk.corpus.gutenberg.words(\"melville-moby_dick.txt\")"
   ]
  },
  {
   "cell_type": "code",
   "execution_count": 22,
   "id": "74fab52f",
   "metadata": {},
   "outputs": [
    {
     "data": {
      "text/plain": [
       "['[', 'Moby', 'Dick', 'by', 'Herman', 'Melville', '1851', ']']"
      ]
     },
     "execution_count": 22,
     "metadata": {},
     "output_type": "execute_result"
    }
   ],
   "source": [
    "md[:8]   #fetching first 8 words"
   ]
  },
  {
   "cell_type": "code",
   "execution_count": 23,
   "id": "4e8add75",
   "metadata": {},
   "outputs": [
    {
     "data": {
      "text/plain": [
       "84"
      ]
     },
     "execution_count": 23,
     "metadata": {},
     "output_type": "execute_result"
    }
   ],
   "source": [
    "md.count('Dick') #counting no. of occurences "
   ]
  },
  {
   "cell_type": "markdown",
   "id": "1ebcf1c8",
   "metadata": {},
   "source": [
    "#### 4.Counting total words in text file"
   ]
  },
  {
   "cell_type": "code",
   "execution_count": 24,
   "id": "5c18caf9",
   "metadata": {},
   "outputs": [
    {
     "data": {
      "text/plain": [
       "260819"
      ]
     },
     "execution_count": 24,
     "metadata": {},
     "output_type": "execute_result"
    }
   ],
   "source": [
    "len(md)"
   ]
  },
  {
   "cell_type": "markdown",
   "id": "ed2c5ff6",
   "metadata": {},
   "source": [
    "#### 5.Unique words in file"
   ]
  },
  {
   "cell_type": "code",
   "execution_count": 25,
   "id": "f09b8062",
   "metadata": {},
   "outputs": [],
   "source": [
    "md_set=set(md)"
   ]
  },
  {
   "cell_type": "code",
   "execution_count": 26,
   "id": "8c800793",
   "metadata": {},
   "outputs": [
    {
     "data": {
      "text/plain": [
       "19317"
      ]
     },
     "execution_count": 26,
     "metadata": {},
     "output_type": "execute_result"
    }
   ],
   "source": [
    "len(md_set) #set gives unique values"
   ]
  },
  {
   "cell_type": "markdown",
   "id": "376a2e9c",
   "metadata": {},
   "source": [
    "#### 6.Average number of words per sentences"
   ]
  },
  {
   "cell_type": "code",
   "execution_count": 27,
   "id": "85c78d76",
   "metadata": {},
   "outputs": [],
   "source": [
    "md_sents=nltk.corpus.gutenberg.sents(\"melville-moby_dick.txt\")"
   ]
  },
  {
   "cell_type": "code",
   "execution_count": 28,
   "id": "a8bdff67",
   "metadata": {},
   "outputs": [
    {
     "data": {
      "text/plain": [
       "25.928919375683467"
      ]
     },
     "execution_count": 28,
     "metadata": {},
     "output_type": "execute_result"
    }
   ],
   "source": [
    "len(md)/len(md_sents)"
   ]
  },
  {
   "cell_type": "code",
   "execution_count": null,
   "id": "1d32d8e0",
   "metadata": {},
   "outputs": [],
   "source": []
  }
 ],
 "metadata": {
  "kernelspec": {
   "display_name": "Python 3 (ipykernel)",
   "language": "python",
   "name": "python3"
  },
  "language_info": {
   "codemirror_mode": {
    "name": "ipython",
    "version": 3
   },
   "file_extension": ".py",
   "mimetype": "text/x-python",
   "name": "python",
   "nbconvert_exporter": "python",
   "pygments_lexer": "ipython3",
   "version": "3.9.12"
  }
 },
 "nbformat": 4,
 "nbformat_minor": 5
}
